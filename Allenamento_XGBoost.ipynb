{
 "cells": [
  {
   "cell_type": "markdown",
   "id": "0ef2943a-ad89-4696-b77a-be2987972ad3",
   "metadata": {
    "id": "0ef2943a-ad89-4696-b77a-be2987972ad3"
   },
   "source": [
    "# **Caricamento e descrizione del dataset**"
   ]
  },
  {
   "cell_type": "code",
   "execution_count": 1,
   "id": "d5a9a476-f59a-4c02-93c4-1f09c1ab4276",
   "metadata": {
    "executionInfo": {
     "elapsed": 3077,
     "status": "ok",
     "timestamp": 1714222225449,
     "user": {
      "displayName": "Emmanuel La Porta",
      "userId": "09492928674325695366"
     },
     "user_tz": -120
    },
    "id": "d5a9a476-f59a-4c02-93c4-1f09c1ab4276"
   },
   "outputs": [],
   "source": [
    "import pandas as pd\n",
    "import numpy as np\n",
    "import matplotlib.pyplot as plt\n",
    "import seaborn as sns"
   ]
  },
  {
   "cell_type": "code",
   "execution_count": 2,
   "id": "9b7b2935-dd2f-46aa-9544-cbfd409ffcff",
   "metadata": {
    "colab": {
     "base_uri": "https://localhost:8080/",
     "height": 0
    },
    "executionInfo": {
     "elapsed": 2568,
     "status": "ok",
     "timestamp": 1714222228013,
     "user": {
      "displayName": "Emmanuel La Porta",
      "userId": "09492928674325695366"
     },
     "user_tz": -120
    },
    "id": "9b7b2935-dd2f-46aa-9544-cbfd409ffcff",
    "outputId": "e5df6501-cbac-42fb-97be-34c70976ed37"
   },
   "outputs": [],
   "source": [
    "trainingData = pd.read_csv('./Data/trainingData.csv')\n",
    "validationData = pd.read_csv('./Data/validationData.csv')"
   ]
  },
  {
   "cell_type": "markdown",
   "id": "18791532-3afb-4045-9376-4d307f3520e0",
   "metadata": {
    "id": "18791532-3afb-4045-9376-4d307f3520e0"
   },
   "source": [
    "# **Pulizia e gestione dei dati**"
   ]
  },
  {
   "cell_type": "markdown",
   "id": "b7b17533-b6e3-4976-9dc2-22053dade651",
   "metadata": {
    "id": "b7b17533-b6e3-4976-9dc2-22053dade651"
   },
   "source": [
    "## Drop degli attributi superflui"
   ]
  },
  {
   "cell_type": "code",
   "execution_count": 3,
   "id": "d72d31b0-6a12-4cd6-8b82-d16f4be40ebd",
   "metadata": {
    "colab": {
     "base_uri": "https://localhost:8080/",
     "height": 0
    },
    "executionInfo": {
     "elapsed": 555,
     "status": "ok",
     "timestamp": 1714222238415,
     "user": {
      "displayName": "Emmanuel La Porta",
      "userId": "09492928674325695366"
     },
     "user_tz": -120
    },
    "id": "d72d31b0-6a12-4cd6-8b82-d16f4be40ebd",
    "outputId": "34b6b67a-ee75-4555-fd84-35b067aff25e"
   },
   "outputs": [],
   "source": [
    "trainingData.drop(['SPACEID','RELATIVEPOSITION','USERID','PHONEID','TIMESTAMP'], axis=1, inplace=True )\n",
    "validationData.drop(['SPACEID','RELATIVEPOSITION','USERID','PHONEID','TIMESTAMP'], axis=1, inplace=True )\n"
   ]
  },
  {
   "cell_type": "markdown",
   "id": "c433ca13-7398-4c72-a339-7b3d02df6cad",
   "metadata": {
    "id": "c433ca13-7398-4c72-a339-7b3d02df6cad"
   },
   "source": [
    "## Creazione attributo BUILDING_FLOOR"
   ]
  },
  {
   "cell_type": "markdown",
   "id": "e7c3856f-b790-46bf-b375-b7bfda73b2bf",
   "metadata": {
    "id": "e7c3856f-b790-46bf-b375-b7bfda73b2bf"
   },
   "source": [
    "Per predire edificio e piano, anziché due modelli distinti, possiamo ridurre le due feature a una tramite la formula BUILDINGID*10 + FLOOR.\n",
    "\n",
    "*Esempio:* BUILDINGID = 2, FLOOR = 3, allora BUILDING_FLOOR = 23."
   ]
  },
  {
   "cell_type": "code",
   "execution_count": 4,
   "id": "1583b10e-a621-4a7d-ade1-c9faaf84304b",
   "metadata": {
    "colab": {
     "base_uri": "https://localhost:8080/",
     "height": 0
    },
    "executionInfo": {
     "elapsed": 423,
     "status": "ok",
     "timestamp": 1714222238832,
     "user": {
      "displayName": "Emmanuel La Porta",
      "userId": "09492928674325695366"
     },
     "user_tz": -120
    },
    "id": "1583b10e-a621-4a7d-ade1-c9faaf84304b",
    "outputId": "45b8e065-e0da-432e-d6bb-c78d4abe4380"
   },
   "outputs": [],
   "source": [
    "trainingData['BUILDING_FLOOR'] = trainingData['BUILDINGID']*10 + trainingData['FLOOR']\n",
    "validationData['BUILDING_FLOOR'] = validationData['BUILDINGID']*10 + validationData['FLOOR']\n",
    "\n",
    "trainingData.drop(['FLOOR','BUILDINGID'], axis=1, inplace=True)\n",
    "validationData.drop(['FLOOR','BUILDINGID'], axis=1, inplace=True)\n"
   ]
  },
  {
   "cell_type": "markdown",
   "id": "f1c74103-61cc-4062-af77-6b7ada102554",
   "metadata": {
    "id": "f1c74103-61cc-4062-af77-6b7ada102554"
   },
   "source": [
    "## Divisione del dataset in features e targets"
   ]
  },
  {
   "cell_type": "markdown",
   "id": "c3b23490-cc7d-4522-b282-492b0a6792e9",
   "metadata": {
    "id": "c3b23490-cc7d-4522-b282-492b0a6792e9"
   },
   "source": [
    "Dividiamo adesso il dataset, dividendo in X_train le colonne del dataset che contengono WAP nel nome, in y_train il restante, facciamo questa procedura sia per training set che per il test set, così da suddividere features con targets.\n",
    "Avendo un unica sezione di targets, quando alleneremo il modello, ci basta specificare quale target di y_train vogliamo allenare per quel specifico modello."
   ]
  },
  {
   "cell_type": "code",
   "execution_count": 5,
   "id": "658129f0-f27d-4279-9524-d86779e2fa8b",
   "metadata": {
    "colab": {
     "base_uri": "https://localhost:8080/"
    },
    "executionInfo": {
     "elapsed": 11,
     "status": "ok",
     "timestamp": 1714222238832,
     "user": {
      "displayName": "Emmanuel La Porta",
      "userId": "09492928674325695366"
     },
     "user_tz": -120
    },
    "id": "658129f0-f27d-4279-9524-d86779e2fa8b",
    "outputId": "d41872a0-a4d8-4920-a638-b63c713034b0"
   },
   "outputs": [
    {
     "name": "stdout",
     "output_type": "stream",
     "text": [
      "(19937, 520) (19937, 3)\n",
      "Index(['LONGITUDE', 'LATITUDE', 'BUILDING_FLOOR'], dtype='object')\n"
     ]
    }
   ],
   "source": [
    "X_train = trainingData[[i for i in trainingData.columns if 'WAP' in i]]\n",
    "y_train = trainingData[[i for i in trainingData.columns if not 'WAP' in i]]\n",
    "print(X_train.shape, y_train.shape)\n",
    "print(y_train.columns)"
   ]
  },
  {
   "cell_type": "code",
   "execution_count": 6,
   "id": "cc3de094-427e-4d59-9f74-6adb5b71e707",
   "metadata": {
    "colab": {
     "base_uri": "https://localhost:8080/"
    },
    "executionInfo": {
     "elapsed": 10,
     "status": "ok",
     "timestamp": 1714222238833,
     "user": {
      "displayName": "Emmanuel La Porta",
      "userId": "09492928674325695366"
     },
     "user_tz": -120
    },
    "id": "cc3de094-427e-4d59-9f74-6adb5b71e707",
    "outputId": "e5d06645-d201-498b-a96a-35e70c45d46b"
   },
   "outputs": [
    {
     "name": "stdout",
     "output_type": "stream",
     "text": [
      "(1111, 520) (1111, 3)\n",
      "Index(['LONGITUDE', 'LATITUDE', 'BUILDING_FLOOR'], dtype='object')\n"
     ]
    }
   ],
   "source": [
    "X_test = validationData[[i for i in validationData.columns if 'WAP' in i]]\n",
    "y_test = validationData[[i for i in validationData.columns if not 'WAP' in i]]\n",
    "print(X_test.shape, y_test.shape)\n",
    "print(y_test.columns)"
   ]
  },
  {
   "cell_type": "markdown",
   "id": "3fd22e6b-6b41-4abe-966f-e1d8ecb3614c",
   "metadata": {
    "id": "3fd22e6b-6b41-4abe-966f-e1d8ecb3614c"
   },
   "source": [
    "## Miglioramento continuità dei dati"
   ]
  },
  {
   "cell_type": "code",
   "execution_count": 7,
   "id": "e6d84f71-d43a-434a-b78d-3b7766f0a50d",
   "metadata": {
    "colab": {
     "base_uri": "https://localhost:8080/",
     "height": 0
    },
    "executionInfo": {
     "elapsed": 9,
     "status": "ok",
     "timestamp": 1714222238833,
     "user": {
      "displayName": "Emmanuel La Porta",
      "userId": "09492928674325695366"
     },
     "user_tz": -120
    },
    "id": "e6d84f71-d43a-434a-b78d-3b7766f0a50d",
    "outputId": "66cc2bbb-d132-4d1b-b5df-2fd3f2abe4c5"
   },
   "outputs": [],
   "source": [
    "X_train = X_train.replace(to_replace=100,value=-111)\n",
    "X_test = X_test.replace(to_replace=100,value=-111)"
   ]
  },
  {
   "cell_type": "markdown",
   "id": "9e266de1-2c61-4c92-b8e3-296842bac83c",
   "metadata": {
    "id": "9e266de1-2c61-4c92-b8e3-296842bac83c"
   },
   "source": [
    "# **Allenamento del modello**"
   ]
  },
  {
   "cell_type": "markdown",
   "id": "689338a4-a4bc-4365-b0ec-18f00ae7e5a5",
   "metadata": {
    "id": "689338a4-a4bc-4365-b0ec-18f00ae7e5a5"
   },
   "source": [
    "## Metodologia e librerie"
   ]
  },
  {
   "cell_type": "markdown",
   "id": "98b037d1-cf29-4dce-a5bb-2996ded08101",
   "metadata": {
    "id": "98b037d1-cf29-4dce-a5bb-2996ded08101"
   },
   "source": [
    "Inseriamo tutte le librerie che saranno utili all'allenamento dei modelli:"
   ]
  },
  {
   "cell_type": "code",
   "execution_count": 11,
   "id": "5f7644df-e5a2-43c2-b42b-f2524d7cdaab",
   "metadata": {
    "executionInfo": {
     "elapsed": 305,
     "status": "ok",
     "timestamp": 1714222244699,
     "user": {
      "displayName": "Emmanuel La Porta",
      "userId": "09492928674325695366"
     },
     "user_tz": -120
    },
    "id": "5f7644df-e5a2-43c2-b42b-f2524d7cdaab"
   },
   "outputs": [],
   "source": [
    "from sklearn.preprocessing import MinMaxScaler\n",
    "from sklearn.feature_selection import VarianceThreshold\n",
    "from sklearn.decomposition import PCA\n",
    "from sklearn.pipeline import Pipeline\n",
    "\n",
    "#Cross-validation\n",
    "from sklearn.model_selection import GridSearchCV, KFold, StratifiedKFold\n",
    "\n",
    "#Classificatori e Regressori\n",
    "from xgboost import XGBClassifier, XGBRegressor"
   ]
  },
  {
   "cell_type": "markdown",
   "id": "442a1a7b-8692-4c33-86a2-9447dddf8714",
   "metadata": {
    "id": "442a1a7b-8692-4c33-86a2-9447dddf8714"
   },
   "source": [
    "## BUILDING_FLOOR"
   ]
  },
  {
   "cell_type": "markdown",
   "id": "06fb141e-26e7-4ab8-9911-84ea8e533a82",
   "metadata": {
    "id": "06fb141e-26e7-4ab8-9911-84ea8e533a82"
   },
   "source": [
    "Definiamo innanzitutto i parametri per la cross-validation:"
   ]
  },
  {
   "cell_type": "code",
   "execution_count": 12,
   "id": "0911bd01-19a0-42f0-94b5-af4e4b2d694c",
   "metadata": {
    "executionInfo": {
     "elapsed": 6,
     "status": "ok",
     "timestamp": 1714222244699,
     "user": {
      "displayName": "Emmanuel La Porta",
      "userId": "09492928674325695366"
     },
     "user_tz": -120
    },
    "id": "0911bd01-19a0-42f0-94b5-af4e4b2d694c"
   },
   "outputs": [],
   "source": [
    "skfold = StratifiedKFold(n_splits=5, random_state=77, shuffle=True)"
   ]
  },
  {
   "cell_type": "markdown",
   "id": "38938ea8-1c3a-4e20-9422-36532833da0b",
   "metadata": {
    "id": "38938ea8-1c3a-4e20-9422-36532833da0b"
   },
   "source": [
    "Costruiamo la pipeline:"
   ]
  },
  {
   "cell_type": "code",
   "execution_count": 13,
   "id": "12b29165-d4bf-4cab-a45a-64cfd901b301",
   "metadata": {
    "executionInfo": {
     "elapsed": 6,
     "status": "ok",
     "timestamp": 1714222244700,
     "user": {
      "displayName": "Emmanuel La Porta",
      "userId": "09492928674325695366"
     },
     "user_tz": -120
    },
    "id": "12b29165-d4bf-4cab-a45a-64cfd901b301"
   },
   "outputs": [],
   "source": [
    "pipeline_xgboost_c = Pipeline([\n",
    "    ('data_scaling', MinMaxScaler()),\n",
    "    ('feature_selection_1', VarianceThreshold()),\n",
    "    ('dimension_reduction', PCA(0.85)),\n",
    "    ('model', XGBClassifier())\n",
    "    ])"
   ]
  },
  {
   "cell_type": "markdown",
   "id": "519e9b4f-4ec7-4428-85cb-f4395d7b6d69",
   "metadata": {
    "id": "519e9b4f-4ec7-4428-85cb-f4395d7b6d69"
   },
   "source": [
    "Definiamo la griglia dei parametri ottimali da trovare:"
   ]
  },
  {
   "cell_type": "code",
   "execution_count": 14,
   "id": "4e087192-23d2-485b-bfbf-db8578ba94e7",
   "metadata": {
    "executionInfo": {
     "elapsed": 5,
     "status": "ok",
     "timestamp": 1714222244700,
     "user": {
      "displayName": "Emmanuel La Porta",
      "userId": "09492928674325695366"
     },
     "user_tz": -120
    },
    "id": "4e087192-23d2-485b-bfbf-db8578ba94e7"
   },
   "outputs": [],
   "source": [
    "param_grid_xgboost_buildingfloor = {\n",
    "    \"model__n_estimators\": [150],\n",
    "    \"model__max_depth\": [10],\n",
    "    \"model__learning_rate\": [0.2]\n",
    "}"
   ]
  },
  {
   "cell_type": "markdown",
   "id": "6284d228-f521-4221-943b-9af800cc047f",
   "metadata": {
    "id": "6284d228-f521-4221-943b-9af800cc047f"
   },
   "source": [
    "Per come abbiamo costruito l'attributo, le classi non sono valori continui, per cui XGBoost non riuscirebbe ad allenarsi. Per risolvere ciò, inseriamo LabelEncoder:"
   ]
  },
  {
   "cell_type": "code",
   "execution_count": 15,
   "id": "bddc5d06-8ed7-44ca-96b7-31f95428f791",
   "metadata": {
    "executionInfo": {
     "elapsed": 4,
     "status": "ok",
     "timestamp": 1714222244700,
     "user": {
      "displayName": "Emmanuel La Porta",
      "userId": "09492928674325695366"
     },
     "user_tz": -120
    },
    "id": "bddc5d06-8ed7-44ca-96b7-31f95428f791"
   },
   "outputs": [],
   "source": [
    "# Codifica etichette categoriche\n",
    "from sklearn.preprocessing import LabelEncoder\n",
    "\n",
    "le = LabelEncoder()\n",
    "y_train_encoded = le.fit_transform(y_train['BUILDING_FLOOR'])"
   ]
  },
  {
   "cell_type": "markdown",
   "id": "9cd3c17a-acf9-4e5b-8736-42c290b94ecd",
   "metadata": {
    "id": "9cd3c17a-acf9-4e5b-8736-42c290b94ecd"
   },
   "source": [
    "Adesso possiamo creare e allenare il modello:"
   ]
  },
  {
   "cell_type": "code",
   "execution_count": 16,
   "id": "be906bda-5825-499b-940f-22e0cbe79c52",
   "metadata": {
    "colab": {
     "base_uri": "https://localhost:8080/"
    },
    "executionInfo": {
     "elapsed": 1446343,
     "status": "ok",
     "timestamp": 1714223691040,
     "user": {
      "displayName": "Emmanuel La Porta",
      "userId": "09492928674325695366"
     },
     "user_tz": -120
    },
    "id": "be906bda-5825-499b-940f-22e0cbe79c52",
    "outputId": "5f7fa6fd-47e8-4769-bcc3-d7ad9b927bd5"
   },
   "outputs": [
    {
     "name": "stdout",
     "output_type": "stream",
     "text": [
      "Fitting 5 folds for each of 1 candidates, totalling 5 fits\n",
      "[CV 1/5] END model__learning_rate=0.2, model__max_depth=10, model__n_estimators=150;, score=(train=0.998, test=0.993) total time= 1.4min\n",
      "[CV 2/5] END model__learning_rate=0.2, model__max_depth=10, model__n_estimators=150;, score=(train=0.998, test=0.994) total time= 1.4min\n",
      "[CV 3/5] END model__learning_rate=0.2, model__max_depth=10, model__n_estimators=150;, score=(train=0.998, test=0.994) total time= 1.6min\n",
      "[CV 4/5] END model__learning_rate=0.2, model__max_depth=10, model__n_estimators=150;, score=(train=0.998, test=0.990) total time= 1.7min\n",
      "[CV 5/5] END model__learning_rate=0.2, model__max_depth=10, model__n_estimators=150;, score=(train=0.998, test=0.994) total time= 1.6min\n"
     ]
    },
    {
     "data": {
      "text/plain": [
       "{'model__learning_rate': 0.2,\n",
       " 'model__max_depth': 10,\n",
       " 'model__n_estimators': 150}"
      ]
     },
     "execution_count": 16,
     "metadata": {},
     "output_type": "execute_result"
    }
   ],
   "source": [
    "xgboost_buldingfloor = GridSearchCV(estimator = pipeline_xgboost_c,\n",
    "                                param_grid = param_grid_xgboost_buildingfloor,\n",
    "                                cv = skfold,\n",
    "                                return_train_score=True,\n",
    "                                verbose=3)\n",
    "xgboost_buldingfloor.fit(X_train, y_train_encoded)\n",
    "xgboost_buldingfloor.best_params_"
   ]
  },
  {
   "cell_type": "markdown",
   "id": "JKm8vc5oQ31t",
   "metadata": {
    "id": "JKm8vc5oQ31t"
   },
   "source": [
    "Salviamo il modello:"
   ]
  },
  {
   "cell_type": "code",
   "execution_count": 17,
   "id": "I56iGO2GlHQB",
   "metadata": {
    "executionInfo": {
     "elapsed": 317,
     "status": "ok",
     "timestamp": 1714223918868,
     "user": {
      "displayName": "Emmanuel La Porta",
      "userId": "09492928674325695366"
     },
     "user_tz": -120
    },
    "id": "I56iGO2GlHQB"
   },
   "outputs": [],
   "source": [
    "import pickle\n",
    "\n",
    "with open('modelli/xgboost_buildingfloor.pkl','wb') as f:\n",
    "        pickle.dump(xgboost_buldingfloor, f)"
   ]
  },
  {
   "cell_type": "markdown",
   "id": "550a756a-bdad-4f9a-887a-e60ee90f0399",
   "metadata": {
    "id": "550a756a-bdad-4f9a-887a-e60ee90f0399"
   },
   "source": [
    "## LATITUDE"
   ]
  },
  {
   "cell_type": "markdown",
   "id": "bb8e0506-245e-4b52-8f0d-8efa0ce28bb7",
   "metadata": {
    "id": "bb8e0506-245e-4b52-8f0d-8efa0ce28bb7"
   },
   "source": [
    "Definiamo i parametri della cross-validation:"
   ]
  },
  {
   "cell_type": "code",
   "execution_count": 18,
   "id": "4ecdbc54-0482-4d39-8d49-de5c2330c7f7",
   "metadata": {
    "executionInfo": {
     "elapsed": 307,
     "status": "ok",
     "timestamp": 1714223958797,
     "user": {
      "displayName": "Emmanuel La Porta",
      "userId": "09492928674325695366"
     },
     "user_tz": -120
    },
    "id": "4ecdbc54-0482-4d39-8d49-de5c2330c7f7"
   },
   "outputs": [],
   "source": [
    "kfold = KFold(n_splits=5, random_state=77, shuffle=True)"
   ]
  },
  {
   "cell_type": "markdown",
   "id": "432723d3-c351-4191-ad3a-93ddc2149df7",
   "metadata": {
    "id": "432723d3-c351-4191-ad3a-93ddc2149df7"
   },
   "source": [
    "Costruiamo la nuova pipeline con il regressore:"
   ]
  },
  {
   "cell_type": "code",
   "execution_count": 19,
   "id": "dca91b9a-b4c3-403c-83e3-eb0cc681cee8",
   "metadata": {
    "executionInfo": {
     "elapsed": 3,
     "status": "ok",
     "timestamp": 1714223959060,
     "user": {
      "displayName": "Emmanuel La Porta",
      "userId": "09492928674325695366"
     },
     "user_tz": -120
    },
    "id": "dca91b9a-b4c3-403c-83e3-eb0cc681cee8"
   },
   "outputs": [],
   "source": [
    "pipeline_xgboost_r = Pipeline([\n",
    "    ('data_scaling', MinMaxScaler()),\n",
    "    ('feature_selection_1', VarianceThreshold()),\n",
    "    ('dimension_reduction', PCA(0.85)),\n",
    "    ('model', XGBRegressor())\n",
    "    ])"
   ]
  },
  {
   "cell_type": "markdown",
   "id": "89ff7b2a-0073-40cf-b0e6-192afffeab50",
   "metadata": {
    "id": "89ff7b2a-0073-40cf-b0e6-192afffeab50"
   },
   "source": [
    "Definiamo la griglia dei parametri ottimali:"
   ]
  },
  {
   "cell_type": "code",
   "execution_count": 20,
   "id": "f3478ce7-f31f-4f85-95be-c4e08ea6e2cb",
   "metadata": {
    "executionInfo": {
     "elapsed": 3,
     "status": "ok",
     "timestamp": 1714223959060,
     "user": {
      "displayName": "Emmanuel La Porta",
      "userId": "09492928674325695366"
     },
     "user_tz": -120
    },
    "id": "f3478ce7-f31f-4f85-95be-c4e08ea6e2cb"
   },
   "outputs": [],
   "source": [
    "param_grid_xgboost_latitude = {\n",
    "    \"model__n_estimators\": [100],\n",
    "    \"model__max_depth\": [10],\n",
    "    \"model__learning_rate\": [0.2]\n",
    "}"
   ]
  },
  {
   "cell_type": "markdown",
   "id": "49bee100-ec18-4dd3-910b-b756341499a9",
   "metadata": {
    "id": "49bee100-ec18-4dd3-910b-b756341499a9"
   },
   "source": [
    "Adesso possiamo creare e allenare il modello:"
   ]
  },
  {
   "cell_type": "code",
   "execution_count": 21,
   "id": "8f7d7824-b801-4705-bcff-7327cb9ed2df",
   "metadata": {
    "colab": {
     "base_uri": "https://localhost:8080/"
    },
    "executionInfo": {
     "elapsed": 1131992,
     "status": "ok",
     "timestamp": 1714225091050,
     "user": {
      "displayName": "Emmanuel La Porta",
      "userId": "09492928674325695366"
     },
     "user_tz": -120
    },
    "id": "8f7d7824-b801-4705-bcff-7327cb9ed2df",
    "outputId": "7eb8610d-9ab1-41a1-b1d2-4a20bfc53995"
   },
   "outputs": [
    {
     "name": "stdout",
     "output_type": "stream",
     "text": [
      "Fitting 5 folds for each of 1 candidates, totalling 5 fits\n",
      "[CV 1/5] END model__learning_rate=0.2, model__max_depth=10, model__n_estimators=100;, score=(train=0.996, test=0.992) total time= 1.6min\n",
      "[CV 2/5] END model__learning_rate=0.2, model__max_depth=10, model__n_estimators=100;, score=(train=0.996, test=0.992) total time= 1.7min\n",
      "[CV 3/5] END model__learning_rate=0.2, model__max_depth=10, model__n_estimators=100;, score=(train=0.996, test=0.993) total time= 1.5min\n",
      "[CV 4/5] END model__learning_rate=0.2, model__max_depth=10, model__n_estimators=100;, score=(train=0.996, test=0.992) total time= 1.4min\n",
      "[CV 5/5] END model__learning_rate=0.2, model__max_depth=10, model__n_estimators=100;, score=(train=0.997, test=0.991) total time= 1.7min\n"
     ]
    },
    {
     "data": {
      "text/plain": [
       "{'model__learning_rate': 0.2,\n",
       " 'model__max_depth': 10,\n",
       " 'model__n_estimators': 100}"
      ]
     },
     "execution_count": 21,
     "metadata": {},
     "output_type": "execute_result"
    }
   ],
   "source": [
    "xgboost_latitude = GridSearchCV(estimator = pipeline_xgboost_r,\n",
    "                                param_grid = param_grid_xgboost_latitude,\n",
    "                                cv = kfold,\n",
    "                                return_train_score=True,\n",
    "                                verbose=3)\n",
    "xgboost_latitude.fit(X_train, y_train['LATITUDE'])\n",
    "xgboost_latitude.best_params_"
   ]
  },
  {
   "cell_type": "markdown",
   "id": "pyI2a2eBlOby",
   "metadata": {
    "id": "pyI2a2eBlOby"
   },
   "source": [
    "Salviamo il modello:"
   ]
  },
  {
   "cell_type": "code",
   "execution_count": 22,
   "id": "fsYdS4qilPO9",
   "metadata": {
    "executionInfo": {
     "elapsed": 14,
     "status": "ok",
     "timestamp": 1714225091051,
     "user": {
      "displayName": "Emmanuel La Porta",
      "userId": "09492928674325695366"
     },
     "user_tz": -120
    },
    "id": "fsYdS4qilPO9"
   },
   "outputs": [],
   "source": [
    "with open('modelli/xgboost_latitude.pkl','wb') as f2:\n",
    "        pickle.dump(xgboost_latitude, f2)"
   ]
  },
  {
   "cell_type": "markdown",
   "id": "2834a310-8dec-46c9-ade1-d422176f1b61",
   "metadata": {
    "id": "2834a310-8dec-46c9-ade1-d422176f1b61"
   },
   "source": [
    "## LONGITUDE"
   ]
  },
  {
   "cell_type": "markdown",
   "id": "550fee0e-2e60-4e9a-872e-a7be9fe36184",
   "metadata": {
    "id": "550fee0e-2e60-4e9a-872e-a7be9fe36184"
   },
   "source": [
    "Definiamo la griglia dei parametri ottimali"
   ]
  },
  {
   "cell_type": "code",
   "execution_count": 23,
   "id": "91fb65e1-4fcd-48f8-8e5f-3a433da29065",
   "metadata": {
    "executionInfo": {
     "elapsed": 11,
     "status": "ok",
     "timestamp": 1714225091051,
     "user": {
      "displayName": "Emmanuel La Porta",
      "userId": "09492928674325695366"
     },
     "user_tz": -120
    },
    "id": "91fb65e1-4fcd-48f8-8e5f-3a433da29065"
   },
   "outputs": [],
   "source": [
    "param_grid_xgboost_longitude = {\n",
    "    \"model__n_estimators\": [200],\n",
    "    \"model__max_depth\": [10],\n",
    "    \"model__learning_rate\": [0.1]\n",
    "}"
   ]
  },
  {
   "cell_type": "markdown",
   "id": "a1084187-435f-4f6e-baef-10c035e392ee",
   "metadata": {
    "id": "a1084187-435f-4f6e-baef-10c035e392ee"
   },
   "source": [
    "Adesso possiamo creare e allenare il modello:"
   ]
  },
  {
   "cell_type": "code",
   "execution_count": 24,
   "id": "ad473580-db1a-494f-aea4-23458d984b89",
   "metadata": {
    "colab": {
     "base_uri": "https://localhost:8080/"
    },
    "executionInfo": {
     "elapsed": 1028328,
     "status": "ok",
     "timestamp": 1714226119370,
     "user": {
      "displayName": "Emmanuel La Porta",
      "userId": "09492928674325695366"
     },
     "user_tz": -120
    },
    "id": "ad473580-db1a-494f-aea4-23458d984b89",
    "outputId": "c5d2d8b2-bccc-42f2-8854-fa7806014e86"
   },
   "outputs": [
    {
     "name": "stdout",
     "output_type": "stream",
     "text": [
      "Fitting 5 folds for each of 1 candidates, totalling 5 fits\n",
      "[CV 1/5] END model__learning_rate=0.1, model__max_depth=10, model__n_estimators=200;, score=(train=0.998, test=0.995) total time= 1.6min\n",
      "[CV 2/5] END model__learning_rate=0.1, model__max_depth=10, model__n_estimators=200;, score=(train=0.998, test=0.995) total time= 1.6min\n",
      "[CV 3/5] END model__learning_rate=0.1, model__max_depth=10, model__n_estimators=200;, score=(train=0.998, test=0.996) total time= 1.8min\n",
      "[CV 4/5] END model__learning_rate=0.1, model__max_depth=10, model__n_estimators=200;, score=(train=0.998, test=0.996) total time= 1.8min\n",
      "[CV 5/5] END model__learning_rate=0.1, model__max_depth=10, model__n_estimators=200;, score=(train=0.998, test=0.996) total time= 1.5min\n"
     ]
    },
    {
     "data": {
      "text/plain": [
       "{'model__learning_rate': 0.1,\n",
       " 'model__max_depth': 10,\n",
       " 'model__n_estimators': 200}"
      ]
     },
     "execution_count": 24,
     "metadata": {},
     "output_type": "execute_result"
    }
   ],
   "source": [
    "xgboost_longitude = GridSearchCV(estimator = pipeline_xgboost_r,\n",
    "                                param_grid = param_grid_xgboost_longitude,\n",
    "                                cv = kfold,\n",
    "                                return_train_score=True,\n",
    "                                verbose=3)\n",
    "xgboost_longitude.fit(X_train, y_train['LONGITUDE'])\n",
    "xgboost_longitude.best_params_"
   ]
  },
  {
   "cell_type": "markdown",
   "id": "f1-KhPL2lafh",
   "metadata": {
    "id": "f1-KhPL2lafh"
   },
   "source": [
    "Salviamo il modello:"
   ]
  },
  {
   "cell_type": "code",
   "execution_count": 25,
   "id": "A8g3elhplafs",
   "metadata": {
    "executionInfo": {
     "elapsed": 24,
     "status": "ok",
     "timestamp": 1714226119371,
     "user": {
      "displayName": "Emmanuel La Porta",
      "userId": "09492928674325695366"
     },
     "user_tz": -120
    },
    "id": "A8g3elhplafs"
   },
   "outputs": [],
   "source": [
    "with open('modelli/xgboost_longitude.pkl','wb') as f3:\n",
    "        pickle.dump(xgboost_longitude, f3)"
   ]
  }
 ],
 "metadata": {
  "colab": {
   "collapsed_sections": [
    "0ef2943a-ad89-4696-b77a-be2987972ad3",
    "18791532-3afb-4045-9376-4d307f3520e0",
    "689338a4-a4bc-4365-b0ec-18f00ae7e5a5"
   ],
   "provenance": []
  },
  "kernelspec": {
   "display_name": "Python 3 (ipykernel)",
   "language": "python",
   "name": "python3"
  },
  "language_info": {
   "codemirror_mode": {
    "name": "ipython",
    "version": 3
   },
   "file_extension": ".py",
   "mimetype": "text/x-python",
   "name": "python",
   "nbconvert_exporter": "python",
   "pygments_lexer": "ipython3",
   "version": "3.12.3"
  }
 },
 "nbformat": 4,
 "nbformat_minor": 5
}
